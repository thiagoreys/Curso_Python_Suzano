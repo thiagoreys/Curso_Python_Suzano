{
  "cells": [
    {
      "cell_type": "markdown",
      "metadata": {
        "id": "view-in-github",
        "colab_type": "text"
      },
      "source": [
        "<a href=\"https://colab.research.google.com/github/thiagoreys123/Curso_Suzano_Python/blob/main/02__Operadores_.ipynb\" target=\"_parent\"><img src=\"https://colab.research.google.com/assets/colab-badge.svg\" alt=\"Open In Colab\"/></a>"
      ]
    },
    {
      "cell_type": "code",
      "execution_count": null,
      "id": "265b99ad",
      "metadata": {
        "id": "265b99ad"
      },
      "outputs": [],
      "source": [
        "x = 50\n",
        "y = 2"
      ]
    },
    {
      "cell_type": "code",
      "execution_count": null,
      "id": "0ad0d2cf",
      "metadata": {
        "scrolled": false,
        "id": "0ad0d2cf",
        "outputId": "588f3e07-e60f-4396-90e6-b52cd6ab2f97"
      },
      "outputs": [
        {
          "name": "stdout",
          "output_type": "stream",
          "text": [
            "52\n",
            "48\n",
            "100\n",
            "25.0\n"
          ]
        }
      ],
      "source": [
        "print (x + y)\n",
        "print (x - y)\n",
        "print (x * y)\n",
        "print (x / y)"
      ]
    },
    {
      "cell_type": "code",
      "execution_count": null,
      "id": "a4ec2a78",
      "metadata": {
        "scrolled": false,
        "id": "a4ec2a78",
        "outputId": "21a91edd-47a4-4ba7-b393-95d56eddd182"
      },
      "outputs": [
        {
          "name": "stdout",
          "output_type": "stream",
          "text": [
            "2500\n",
            "25\n",
            "0\n"
          ]
        }
      ],
      "source": [
        "print(x ** y) #Potência\n",
        "print(x // y) #Divisão Inteira\n",
        "print(x % y)  #Resto da Divisão"
      ]
    },
    {
      "cell_type": "code",
      "execution_count": null,
      "id": "c80565cd",
      "metadata": {
        "id": "c80565cd",
        "outputId": "a1a4fc7d-87f1-41f5-9f8d-dc64cb050a56"
      },
      "outputs": [
        {
          "name": "stdout",
          "output_type": "stream",
          "text": [
            "0.75\n",
            "0\n"
          ]
        }
      ],
      "source": [
        "print(3/4)\n",
        "print(3//4)"
      ]
    },
    {
      "cell_type": "code",
      "execution_count": null,
      "id": "cef3a1f4",
      "metadata": {
        "id": "cef3a1f4"
      },
      "outputs": [],
      "source": [
        "tem_cafe = True\n",
        "tem_pao = False"
      ]
    },
    {
      "cell_type": "code",
      "execution_count": null,
      "id": "85d06c91",
      "metadata": {
        "id": "85d06c91",
        "outputId": "6279aa9e-c959-463b-90f7-f6dfe8c7b44b"
      },
      "outputs": [
        {
          "name": "stdout",
          "output_type": "stream",
          "text": [
            "False\n",
            "True\n",
            "False\n"
          ]
        }
      ],
      "source": [
        "print(not tem_cafe)\n",
        "print(tem_cafe or tem_pao)\n",
        "print(tem_cafe and tem_pao)"
      ]
    },
    {
      "cell_type": "code",
      "execution_count": null,
      "id": "e3c875b1",
      "metadata": {
        "id": "e3c875b1"
      },
      "outputs": [],
      "source": [
        "dolar = 5.3\n",
        "real = 1"
      ]
    },
    {
      "cell_type": "code",
      "execution_count": null,
      "id": "84464b67",
      "metadata": {
        "id": "84464b67",
        "outputId": "6be228b5-fb42-42dc-9902-1c48dc2ec7f4"
      },
      "outputs": [
        {
          "name": "stdout",
          "output_type": "stream",
          "text": [
            "True\n",
            "False\n",
            "False\n",
            "True\n",
            "False\n",
            "True\n"
          ]
        }
      ],
      "source": [
        "print (dolar > real)\n",
        "print (dolar < real)\n",
        "print (dolar == real)\n",
        "print (dolar >= real)\n",
        "print (dolar <= real)\n",
        "print (dolar != real)"
      ]
    },
    {
      "cell_type": "code",
      "execution_count": null,
      "id": "3ecb6213",
      "metadata": {
        "id": "3ecb6213"
      },
      "outputs": [],
      "source": []
    }
  ],
  "metadata": {
    "kernelspec": {
      "display_name": "Python 3 (ipykernel)",
      "language": "python",
      "name": "python3"
    },
    "language_info": {
      "codemirror_mode": {
        "name": "ipython",
        "version": 3
      },
      "file_extension": ".py",
      "mimetype": "text/x-python",
      "name": "python",
      "nbconvert_exporter": "python",
      "pygments_lexer": "ipython3",
      "version": "3.10.5"
    },
    "colab": {
      "provenance": [],
      "include_colab_link": true
    }
  },
  "nbformat": 4,
  "nbformat_minor": 5
}