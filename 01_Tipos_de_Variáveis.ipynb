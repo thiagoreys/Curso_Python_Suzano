{
  "cells": [
    {
      "cell_type": "markdown",
      "metadata": {
        "id": "view-in-github",
        "colab_type": "text"
      },
      "source": [
        "<a href=\"https://colab.research.google.com/github/thiagoreys123/Curso_Suzano_Python/blob/main/01_Tipos_de_Vari%C3%A1veis.ipynb\" target=\"_parent\"><img src=\"https://colab.research.google.com/assets/colab-badge.svg\" alt=\"Open In Colab\"/></a>"
      ]
    },
    {
      "cell_type": "code",
      "execution_count": null,
      "id": "be514b79",
      "metadata": {
        "id": "be514b79"
      },
      "outputs": [],
      "source": [
        "x=5"
      ]
    },
    {
      "cell_type": "code",
      "execution_count": null,
      "id": "f6ba60fd",
      "metadata": {
        "id": "f6ba60fd",
        "outputId": "b8f263c3-df23-4ecc-d7bf-d46ca89c12dd"
      },
      "outputs": [
        {
          "name": "stdout",
          "output_type": "stream",
          "text": [
            "5\n"
          ]
        }
      ],
      "source": [
        "print(x)"
      ]
    },
    {
      "cell_type": "code",
      "execution_count": null,
      "id": "869db765",
      "metadata": {
        "id": "869db765",
        "outputId": "ae4d3b9c-ce71-43ab-fd38-fd4c027eecf7"
      },
      "outputs": [
        {
          "name": "stdout",
          "output_type": "stream",
          "text": [
            "<class 'int'>\n"
          ]
        }
      ],
      "source": [
        "print(type(x))"
      ]
    },
    {
      "cell_type": "code",
      "execution_count": null,
      "id": "5abc33c5",
      "metadata": {
        "id": "5abc33c5",
        "outputId": "e1741e1b-5603-4c2f-8aa9-d57394305b89"
      },
      "outputs": [
        {
          "name": "stdout",
          "output_type": "stream",
          "text": [
            "19.99 <class 'float'>\n"
          ]
        }
      ],
      "source": [
        "preco = 19.99\n",
        "print(preco,type(preco))"
      ]
    },
    {
      "cell_type": "code",
      "execution_count": null,
      "id": "0d9220ca",
      "metadata": {
        "id": "0d9220ca",
        "outputId": "e937aa48-f5cf-4908-8b16-a813825196ef"
      },
      "outputs": [
        {
          "name": "stdout",
          "output_type": "stream",
          "text": [
            "Açailândia <class 'str'>\n"
          ]
        }
      ],
      "source": [
        "cidade = 'Açailândia'\n",
        "print(cidade,type(cidade))"
      ]
    },
    {
      "cell_type": "code",
      "execution_count": null,
      "id": "b58775d5",
      "metadata": {
        "scrolled": true,
        "id": "b58775d5",
        "outputId": "0f64ff5d-d9f3-4628-f53a-80827f2f714c"
      },
      "outputs": [
        {
          "name": "stdout",
          "output_type": "stream",
          "text": [
            "True <class 'bool'>\n"
          ]
        }
      ],
      "source": [
        "disponivel = True\n",
        "print(disponivel,type(disponivel))"
      ]
    }
  ],
  "metadata": {
    "kernelspec": {
      "display_name": "Python 3 (ipykernel)",
      "language": "python",
      "name": "python3"
    },
    "language_info": {
      "codemirror_mode": {
        "name": "ipython",
        "version": 3
      },
      "file_extension": ".py",
      "mimetype": "text/x-python",
      "name": "python",
      "nbconvert_exporter": "python",
      "pygments_lexer": "ipython3",
      "version": "3.10.5"
    },
    "colab": {
      "provenance": [],
      "include_colab_link": true
    }
  },
  "nbformat": 4,
  "nbformat_minor": 5
}