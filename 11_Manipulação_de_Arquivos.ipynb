{
  "cells": [
    {
      "cell_type": "markdown",
      "metadata": {
        "id": "view-in-github",
        "colab_type": "text"
      },
      "source": [
        "<a href=\"https://colab.research.google.com/github/thiagoreys123/Curso_Suzano_Python/blob/main/11_Manipula%C3%A7%C3%A3o_de_Arquivos.ipynb\" target=\"_parent\"><img src=\"https://colab.research.google.com/assets/colab-badge.svg\" alt=\"Open In Colab\"/></a>"
      ]
    },
    {
      "cell_type": "code",
      "execution_count": null,
      "id": "a215b782",
      "metadata": {
        "id": "a215b782",
        "outputId": "82e7eea3-2215-4b5e-b194-940e09619aaa"
      },
      "outputs": [
        {
          "name": "stdout",
          "output_type": "stream",
          "text": [
            "Dom Casmurro \n",
            "\n",
            "Texto de referenda: \n",
            "Obras Completas de Machado de Assis, vol. I, \n",
            "Nova Aguilar, Rio de Janeiro, 1994. \n",
            "Publicado originalmente pela Editora Gamier, Rio de Janeiro, 1899. \n",
            "\n",
            "\n",
            "CAPITULO PRIMEIRO \n",
            "DO TITULO \n",
            "\n",
            "Uma noite destas, vindo da cidade para o Engenho Novo, encontrei no trem da \n",
            "Central um rapaz aqui do bairro, que eu conhego de vista e de chapeu. \n",
            "Cumprimentou-me, sentou-se ao pe de mim, falou da Lua e dos ministros, e \n",
            "acabou recitando-me versos. A viagem era curta, e os versos pode ser que nao \n",
            "fossem inteiramente maus. Sucedeu, porem, que, como eu estava cansado, fechei \n",
            "os olhos tres ou quatro vezes; tanto bastou para que ele interrompesse a leitura e \n",
            "metesse os versos no bolso. \n",
            "\n",
            "â Continue, disse eu acordando. \n",
            "\n",
            "â Ja acabei, murmurou ele. \n",
            "\n",
            "â Sao muito bonitos. \n",
            "\n",
            "Vi-lhe fazer um gesto para tira-los outra vez do bolso, mas nao passou do gesto; \n",
            "estava amuado. No dia seguinte entrou a dizer de mim nomes feios, e acabou \n",
            "alcunhando-me Dom Casmurro. Os vizinhos, que nao gostam dos meus habitos \n",
            "reclusos e calados, deram curso a alcunha, que afinal pegou. Nem por isso me \n",
            "zanguei. Contei a anedota aos amigos da cidade, e eles, por graga, chamam-me \n",
            "assim, alguns em bilhetes: \"Dom Casmurro, domingo vou jantar com voceâ.â \n",
            "\"Vou para Petropolis, Dom Casmurro; a casa e a mesma da Renania; ve se deixas \n",
            "essa caverna do Engenho Novo, e vai la passar uns quinze dias comigo\".â \"Meu \n",
            "caro Dom Casmurro, nao cuide que o dispenso do teatro amanha; venha e dormira \n",
            "aqui na cidade; dou-lhe camarote, dou-lhe cha, dou-lhe cama; so nao Ihe dou \n",
            "mogaâ. \n",
            "\n",
            "Nao consultes dicionarios. Casmurro nao esta aqui no sentido que eles Ihe dao, \n",
            "mas no que Ihe pos o vulgo de homem calado e metido consigo. Dom veio por \n",
            "ironia, para atribuir-me fumos de fidalgo. Tudo por estar cochilando! Tambem nao \n",
            "achei melhor titulo para a minha narracao; se nao tiver outro daqui ate ao fim do \n",
            "livro, vai este mesmo. O meu poeta do trem ficara sabendo que nao Ihe guardo \n",
            "rancor. E com pequeno esforco, sendo o titulo seu, podera cuidar que a obra e \n",
            "sua. Ha livros que apenas terao isso dos seus autores; alguns nem tanto. \n",
            "\n"
          ]
        },
        {
          "data": {
            "text/plain": [
              "<function TextIOWrapper.close()>"
            ]
          },
          "execution_count": 11,
          "metadata": {},
          "output_type": "execute_result"
        }
      ],
      "source": [
        "arquivo = open('dom_casmurro_cap_1.txt', 'r',encoding = 'latin1')\n",
        "texto = arquivo.read()\n",
        "print(texto)\n",
        "arquivo.close"
      ]
    },
    {
      "cell_type": "code",
      "execution_count": null,
      "id": "7afcb94e",
      "metadata": {
        "id": "7afcb94e",
        "outputId": "a1c69222-3b8a-430d-a709-5da4ac69cf0a"
      },
      "outputs": [
        {
          "name": "stdout",
          "output_type": "stream",
          "text": [
            "Dom Casmurro \n",
            "\n",
            "Texto de referenda: \n",
            "Obras Completas de Machado de Assis, vol. I, \n",
            "Nova Aguilar, Rio de Janeiro, 1994. \n",
            "Publicado originalmente pela Editora Gamier, Rio de Janeiro, 1899. \n",
            "\n",
            "\n",
            "CAPITULO PRIMEIRO \n",
            "DO TITULO \n",
            "\n",
            "Uma noite destas, vindo da cidade para o Engenho Novo, encontrei no trem da \n",
            "Central um rapaz aqui do bairro, que eu conhego de vista e de chapeu. \n",
            "Cumprimentou-me, sentou-se ao pe de mim, falou da Lua e dos ministros, e \n",
            "acabou recitando-me versos. A viagem era curta, e os versos pode ser que nao \n",
            "fossem inteiramente maus. Sucedeu, porem, que, como eu estava cansado, fechei \n",
            "os olhos tres ou quatro vezes; tanto bastou para que ele interrompesse a leitura e \n",
            "metesse os versos no bolso. \n",
            "\n",
            "â Continue, disse eu acordando. \n",
            "\n",
            "â Ja acabei, murmurou ele. \n",
            "\n",
            "â Sao muito bonitos. \n",
            "\n",
            "Vi-lhe fazer um gesto para tira-los outra vez do bolso, mas nao passou do gesto; \n",
            "estava amuado. No dia seguinte entrou a dizer de mim nomes feios, e acabou \n",
            "alcunhando-me Dom Casmurro. Os vizinhos, que nao gostam dos meus habitos \n",
            "reclusos e calados, deram curso a alcunha, que afinal pegou. Nem por isso me \n",
            "zanguei. Contei a anedota aos amigos da cidade, e eles, por graga, chamam-me \n",
            "assim, alguns em bilhetes: \"Dom Casmurro, domingo vou jantar com voceâ.â \n",
            "\"Vou para Petropolis, Dom Casmurro; a casa e a mesma da Renania; ve se deixas \n",
            "essa caverna do Engenho Novo, e vai la passar uns quinze dias comigo\".â \"Meu \n",
            "caro Dom Casmurro, nao cuide que o dispenso do teatro amanha; venha e dormira \n",
            "aqui na cidade; dou-lhe camarote, dou-lhe cha, dou-lhe cama; so nao Ihe dou \n",
            "mogaâ. \n",
            "\n",
            "Nao consultes dicionarios. Casmurro nao esta aqui no sentido que eles Ihe dao, \n",
            "mas no que Ihe pos o vulgo de homem calado e metido consigo. Dom veio por \n",
            "ironia, para atribuir-me fumos de fidalgo. Tudo por estar cochilando! Tambem nao \n",
            "achei melhor titulo para a minha narracao; se nao tiver outro daqui ate ao fim do \n",
            "livro, vai este mesmo. O meu poeta do trem ficara sabendo que nao Ihe guardo \n",
            "rancor. E com pequeno esforco, sendo o titulo seu, podera cuidar que a obra e \n",
            "sua. Ha livros que apenas terao isso dos seus autores; alguns nem tanto. \n"
          ]
        }
      ],
      "source": [
        "arquivo = open('dom_casmurro_cap_1.txt','r',encoding = 'latin1')\n",
        "linha = arquivo.readline()\n",
        "while linha != '':\n",
        "    print(linha,end='')\n",
        "    linha = arquivo.readline()\n",
        "arquivo.close()"
      ]
    },
    {
      "cell_type": "code",
      "execution_count": null,
      "id": "765f7795",
      "metadata": {
        "id": "765f7795",
        "outputId": "57183fa6-c869-4450-9dbb-c8f0ec6d8464"
      },
      "outputs": [
        {
          "name": "stdout",
          "output_type": "stream",
          "text": [
            "Dom Casmurro \n",
            "\n",
            "Texto de referenda: \n",
            "Obras Completas de Machado de Assis, vol. I, \n",
            "Nova Aguilar, Rio de Janeiro, 1994. \n",
            "Publicado originalmente pela Editora Gamier, Rio de Janeiro, 1899. \n",
            "\n",
            "\n",
            "CAPITULO PRIMEIRO \n",
            "DO TITULO \n",
            "\n",
            "Uma noite destas, vindo da cidade para o Engenho Novo, encontrei no trem da \n",
            "Central um rapaz aqui do bairro, que eu conhego de vista e de chapeu. \n",
            "Cumprimentou-me, sentou-se ao pe de mim, falou da Lua e dos ministros, e \n",
            "acabou recitando-me versos. A viagem era curta, e os versos pode ser que nao \n",
            "fossem inteiramente maus. Sucedeu, porem, que, como eu estava cansado, fechei \n",
            "os olhos tres ou quatro vezes; tanto bastou para que ele interrompesse a leitura e \n",
            "metesse os versos no bolso. \n",
            "\n",
            "â Continue, disse eu acordando. \n",
            "\n",
            "â Ja acabei, murmurou ele. \n",
            "\n",
            "â Sao muito bonitos. \n",
            "\n",
            "Vi-lhe fazer um gesto para tira-los outra vez do bolso, mas nao passou do gesto; \n",
            "estava amuado. No dia seguinte entrou a dizer de mim nomes feios, e acabou \n",
            "alcunhando-me Dom Casmurro. Os vizinhos, que nao gostam dos meus habitos \n",
            "reclusos e calados, deram curso a alcunha, que afinal pegou. Nem por isso me \n",
            "zanguei. Contei a anedota aos amigos da cidade, e eles, por graga, chamam-me \n",
            "assim, alguns em bilhetes: \"Dom Casmurro, domingo vou jantar com voceâ.â \n",
            "\"Vou para Petropolis, Dom Casmurro; a casa e a mesma da Renania; ve se deixas \n",
            "essa caverna do Engenho Novo, e vai la passar uns quinze dias comigo\".â \"Meu \n",
            "caro Dom Casmurro, nao cuide que o dispenso do teatro amanha; venha e dormira \n",
            "aqui na cidade; dou-lhe camarote, dou-lhe cha, dou-lhe cama; so nao Ihe dou \n",
            "mogaâ. \n",
            "\n",
            "Nao consultes dicionarios. Casmurro nao esta aqui no sentido que eles Ihe dao, \n",
            "mas no que Ihe pos o vulgo de homem calado e metido consigo. Dom veio por \n",
            "ironia, para atribuir-me fumos de fidalgo. Tudo por estar cochilando! Tambem nao \n",
            "achei melhor titulo para a minha narracao; se nao tiver outro daqui ate ao fim do \n",
            "livro, vai este mesmo. O meu poeta do trem ficara sabendo que nao Ihe guardo \n",
            "rancor. E com pequeno esforco, sendo o titulo seu, podera cuidar que a obra e \n",
            "sua. Ha livros que apenas terao isso dos seus autores; alguns nem tanto. \n"
          ]
        },
        {
          "data": {
            "text/plain": [
              "<function TextIOWrapper.close()>"
            ]
          },
          "execution_count": 13,
          "metadata": {},
          "output_type": "execute_result"
        }
      ],
      "source": [
        "arquivo = open('dom_casmurro_cap_1.txt','r',encoding = 'latin1')\n",
        "for linha in arquivo:\n",
        "    print(linha,end='')\n",
        "arquivo.close"
      ]
    },
    {
      "cell_type": "code",
      "execution_count": null,
      "id": "37abd164",
      "metadata": {
        "id": "37abd164",
        "outputId": "dfa647f2-3695-4aee-a864-7d3523444310"
      },
      "outputs": [
        {
          "name": "stdout",
          "output_type": "stream",
          "text": [
            "Dom Casmurro \n",
            "\n",
            "Texto de referenda: \n",
            "Obras Completas de Machado de Assis, vol. I, \n",
            "Nova Aguilar, Rio de Janeiro, 1994. \n",
            "Publicado originalmente pela Editora Gamier, Rio de Janeiro, 1899. \n",
            "\n",
            "\n",
            "CAPITULO PRIMEIRO \n",
            "DO TITULO \n",
            "\n",
            "Uma noite destas, vindo da cidade para o Engenho Novo, encontrei no trem da \n",
            "Central um rapaz aqui do bairro, que eu conhego de vista e de chapeu. \n",
            "Cumprimentou-me, sentou-se ao pe de mim, falou da Lua e dos ministros, e \n",
            "acabou recitando-me versos. A viagem era curta, e os versos pode ser que nao \n",
            "fossem inteiramente maus. Sucedeu, porem, que, como eu estava cansado, fechei \n",
            "os olhos tres ou quatro vezes; tanto bastou para que ele interrompesse a leitura e \n",
            "metesse os versos no bolso. \n",
            "\n",
            "â Continue, disse eu acordando. \n",
            "\n",
            "â Ja acabei, murmurou ele. \n",
            "\n",
            "â Sao muito bonitos. \n",
            "\n",
            "Vi-lhe fazer um gesto para tira-los outra vez do bolso, mas nao passou do gesto; \n",
            "estava amuado. No dia seguinte entrou a dizer de mim nomes feios, e acabou \n",
            "alcunhando-me Dom Casmurro. Os vizinhos, que nao gostam dos meus habitos \n",
            "reclusos e calados, deram curso a alcunha, que afinal pegou. Nem por isso me \n",
            "zanguei. Contei a anedota aos amigos da cidade, e eles, por graga, chamam-me \n",
            "assim, alguns em bilhetes: \"Dom Casmurro, domingo vou jantar com voceâ.â \n",
            "\"Vou para Petropolis, Dom Casmurro; a casa e a mesma da Renania; ve se deixas \n",
            "essa caverna do Engenho Novo, e vai la passar uns quinze dias comigo\".â \"Meu \n",
            "caro Dom Casmurro, nao cuide que o dispenso do teatro amanha; venha e dormira \n",
            "aqui na cidade; dou-lhe camarote, dou-lhe cha, dou-lhe cama; so nao Ihe dou \n",
            "mogaâ. \n",
            "\n",
            "Nao consultes dicionarios. Casmurro nao esta aqui no sentido que eles Ihe dao, \n",
            "mas no que Ihe pos o vulgo de homem calado e metido consigo. Dom veio por \n",
            "ironia, para atribuir-me fumos de fidalgo. Tudo por estar cochilando! Tambem nao \n",
            "achei melhor titulo para a minha narracao; se nao tiver outro daqui ate ao fim do \n",
            "livro, vai este mesmo. O meu poeta do trem ficara sabendo que nao Ihe guardo \n",
            "rancor. E com pequeno esforco, sendo o titulo seu, podera cuidar que a obra e \n",
            "sua. Ha livros que apenas terao isso dos seus autores; alguns nem tanto. \n",
            "\n"
          ]
        }
      ],
      "source": [
        "with open('dom_casmurro_cap_1.txt','r',encoding='latin1') as arquivo:\n",
        "    texto = arquivo.read()\n",
        "    print(texto)\n",
        "\n",
        "# Nessa função, o arquivo é fechado automaticamente."
      ]
    },
    {
      "cell_type": "code",
      "execution_count": null,
      "id": "ae034f1c",
      "metadata": {
        "scrolled": true,
        "id": "ae034f1c",
        "outputId": "e27c0fdd-045b-46a1-9725-c09cefde7812"
      },
      "outputs": [
        {
          "name": "stdout",
          "output_type": "stream",
          "text": [
            "Essa é uma linha que escrevi usando Python\n",
            "Essa é uma segunda linha que escrevi usando Python\n"
          ]
        }
      ],
      "source": [
        "                                                #ESCREVER ARQUIVOS\n",
        "# Criando um arquivo novo\n",
        "with open(\"arquivo_teste.txt\",\"w\",encoding='latin1') as arquivo:\n",
        "    arquivo.write(\"Essa é uma linha que escrevi usando Python\\n\")\n",
        "    arquivo.write(\"Essa é uma segunda linha que escrevi usando Python\\n\")\n",
        "\n",
        "with open(\"arquivo_teste.txt\",\"r\",encoding='latin1') as arquivo:\n",
        "    print(arquivo.read(),end='')"
      ]
    },
    {
      "cell_type": "code",
      "execution_count": null,
      "id": "4777e0b8",
      "metadata": {
        "id": "4777e0b8",
        "outputId": "56b69cc2-ffb5-4827-f89e-f0d3833a6079"
      },
      "outputs": [
        {
          "name": "stdout",
          "output_type": "stream",
          "text": [
            "Essa é uma linha que escrevi usando Python\n",
            "Essa é uma segunda linha que escrevi usando Python\n",
            "Essa é a terceira linha que escrevi usando Python\n"
          ]
        }
      ],
      "source": [
        "# Modificando o arquivo\n",
        "with open(\"arquivo_teste.txt\",\"a\",encoding='latin1') as arquivo:\n",
        "    arquivo.write(\"Essa é a terceira linha que escrevi usando Python\\n\")\n",
        "\n",
        "with open(\"arquivo_teste.txt\",\"r\",encoding='latin1') as arquivo:\n",
        "    print(arquivo.read(),end='')"
      ]
    },
    {
      "cell_type": "code",
      "execution_count": null,
      "id": "00366f97",
      "metadata": {
        "id": "00366f97"
      },
      "outputs": [],
      "source": []
    }
  ],
  "metadata": {
    "kernelspec": {
      "display_name": "Python 3 (ipykernel)",
      "language": "python",
      "name": "python3"
    },
    "language_info": {
      "codemirror_mode": {
        "name": "ipython",
        "version": 3
      },
      "file_extension": ".py",
      "mimetype": "text/x-python",
      "name": "python",
      "nbconvert_exporter": "python",
      "pygments_lexer": "ipython3",
      "version": "3.10.5"
    },
    "colab": {
      "provenance": [],
      "include_colab_link": true
    }
  },
  "nbformat": 4,
  "nbformat_minor": 5
}