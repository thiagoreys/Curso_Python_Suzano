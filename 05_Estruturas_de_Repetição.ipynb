{
  "cells": [
    {
      "cell_type": "markdown",
      "metadata": {
        "id": "view-in-github",
        "colab_type": "text"
      },
      "source": [
        "<a href=\"https://colab.research.google.com/github/thiagoreys123/Curso_Suzano_Python/blob/main/05_Estruturas_de_Repeti%C3%A7%C3%A3o.ipynb\" target=\"_parent\"><img src=\"https://colab.research.google.com/assets/colab-badge.svg\" alt=\"Open In Colab\"/></a>"
      ]
    },
    {
      "cell_type": "code",
      "execution_count": null,
      "id": "e7b966a0",
      "metadata": {
        "id": "e7b966a0",
        "outputId": "309de477-2fe6-4b52-d8f2-bce1af782d20"
      },
      "outputs": [
        {
          "name": "stdout",
          "output_type": "stream",
          "text": [
            "1  item limpo\n",
            "2  itens limpos\n",
            "3  itens limpos\n",
            "4  itens limpos\n",
            "5  itens limpos\n",
            "6  itens limpos\n",
            "7  itens limpos\n",
            "8  itens limpos\n",
            "9  itens limpos\n",
            "10  itens limpos\n",
            "Fim da repetição do bloco while\n"
          ]
        }
      ],
      "source": [
        "contador = 0\n",
        "\n",
        "while contador < 10:\n",
        "    contador = contador + 1\n",
        "    if contador == 1:\n",
        "        print(contador,\" item limpo\")\n",
        "    else:\n",
        "        print(contador,\" itens limpos\")\n",
        "\n",
        "print (\"Fim da repetição do bloco while\")"
      ]
    },
    {
      "cell_type": "code",
      "execution_count": null,
      "id": "f7f6a05a",
      "metadata": {
        "id": "f7f6a05a",
        "outputId": "e749486a-ed80-4046-bb31-ced775c2cc82"
      },
      "outputs": [
        {
          "name": "stdout",
          "output_type": "stream",
          "text": [
            "1  item limpo\n",
            "2  itens limpos\n",
            "3  itens limpos\n",
            "4  itens limpos\n",
            "5  itens limpos\n",
            "6  itens limpos\n",
            "7  itens limpos\n",
            "8  itens limpos\n",
            "9  itens limpos\n",
            "10  itens limpos\n",
            "Fim da repetição do bloco while\n"
          ]
        }
      ],
      "source": [
        "contador = 0\n",
        "\n",
        "while True:\n",
        "    if contador < 10:\n",
        "        contador = contador + 1\n",
        "        if contador == 1:\n",
        "            print(contador,\" item limpo\")\n",
        "        else:\n",
        "            print(contador,\" itens limpos\")\n",
        "    else:\n",
        "        break\n",
        "print (\"Fim da repetição do bloco while\")"
      ]
    },
    {
      "cell_type": "code",
      "execution_count": null,
      "id": "2644d358",
      "metadata": {
        "id": "2644d358",
        "outputId": "b350e96c-a0ed-4a95-a945-247e64376b85"
      },
      "outputs": [
        {
          "name": "stdout",
          "output_type": "stream",
          "text": [
            "Digite sua senha: LetsCode\n",
            "Acesso permitido\n"
          ]
        }
      ],
      "source": [
        "texto = input('Digite sua senha: ')\n",
        "\n",
        "while texto != 'LetsCode':\n",
        "    texto = input('Senha incorreta. Tente novamente: ')\n",
        "\n",
        "print('Acesso permitido')"
      ]
    },
    {
      "cell_type": "code",
      "execution_count": null,
      "id": "d3dda233",
      "metadata": {
        "id": "d3dda233",
        "outputId": "8fb63819-39c2-43f1-b699-36f759fc92fc"
      },
      "outputs": [
        {
          "name": "stdout",
          "output_type": "stream",
          "text": [
            "2  itens limpos\n",
            "3  itens limpos\n",
            "4  itens limpos\n",
            "5  itens limpos\n",
            "6  itens limpos\n",
            "7  itens limpos\n",
            "8  itens limpos\n",
            "9  itens limpos\n",
            "10  itens limpos\n",
            "Fim da repetição do bloco while\n"
          ]
        }
      ],
      "source": [
        "contador = 0\n",
        "\n",
        "while contador < 10:\n",
        "    contador = contador + 1\n",
        "    if contador == 1:\n",
        "        continue\n",
        "    print(contador,\" itens limpos\")\n",
        "\n",
        "print (\"Fim da repetição do bloco while\")"
      ]
    },
    {
      "cell_type": "code",
      "execution_count": null,
      "id": "c1538c22",
      "metadata": {
        "id": "c1538c22"
      },
      "outputs": [],
      "source": []
    }
  ],
  "metadata": {
    "kernelspec": {
      "display_name": "Python 3 (ipykernel)",
      "language": "python",
      "name": "python3"
    },
    "language_info": {
      "codemirror_mode": {
        "name": "ipython",
        "version": 3
      },
      "file_extension": ".py",
      "mimetype": "text/x-python",
      "name": "python",
      "nbconvert_exporter": "python",
      "pygments_lexer": "ipython3",
      "version": "3.10.5"
    },
    "colab": {
      "provenance": [],
      "include_colab_link": true
    }
  },
  "nbformat": 4,
  "nbformat_minor": 5
}