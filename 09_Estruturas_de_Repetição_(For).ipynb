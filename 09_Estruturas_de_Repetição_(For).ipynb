{
  "cells": [
    {
      "cell_type": "markdown",
      "metadata": {
        "id": "view-in-github",
        "colab_type": "text"
      },
      "source": [
        "<a href=\"https://colab.research.google.com/github/thiagoreys123/Curso_Suzano_Python/blob/main/09_Estruturas_de_Repeti%C3%A7%C3%A3o_(For).ipynb\" target=\"_parent\"><img src=\"https://colab.research.google.com/assets/colab-badge.svg\" alt=\"Open In Colab\"/></a>"
      ]
    },
    {
      "cell_type": "code",
      "execution_count": null,
      "id": "52c4494e",
      "metadata": {
        "id": "52c4494e",
        "outputId": "f35eb8db-1514-4597-f862-cea778535354"
      },
      "outputs": [
        {
          "name": "stdout",
          "output_type": "stream",
          "text": [
            "São Paulo\n",
            "Londres\n",
            "Tóquio\n",
            "París\n"
          ]
        }
      ],
      "source": [
        "# For em Listas\n",
        "nomes_cidades = ['São Paulo', 'Londres', 'Tóquio', 'París']\n",
        "for nome in nomes_cidades:\n",
        "    print(nome)"
      ]
    },
    {
      "cell_type": "code",
      "execution_count": null,
      "id": "2286e2fb",
      "metadata": {
        "scrolled": false,
        "id": "2286e2fb",
        "outputId": "fd5b46b8-8f08-4d40-9dad-d51c0c3e6d21"
      },
      "outputs": [
        {
          "name": "stdout",
          "output_type": "stream",
          "text": [
            "São Paulo\n",
            "Londres\n",
            "Tóquio\n",
            "París\n"
          ]
        }
      ],
      "source": [
        "# While\n",
        "contador = 0\n",
        "nomes_cidades = ['São Paulo', 'Londres', 'Tóquio', 'París']\n",
        "while contador < len(nomes_cidades):\n",
        "    print(nomes_cidades[contador])\n",
        "    contador = contador + 1"
      ]
    },
    {
      "cell_type": "code",
      "execution_count": null,
      "id": "4b5027b1",
      "metadata": {
        "id": "4b5027b1",
        "outputId": "30f60736-280b-46b4-8bb6-4ae57e010a68"
      },
      "outputs": [
        {
          "name": "stdout",
          "output_type": "stream",
          "text": [
            "São Paulo\n",
            "Londres\n",
            "Tóquio\n",
            "París\n"
          ]
        }
      ],
      "source": [
        "# For em Tuplas\n",
        "nomes_cidades = 'São Paulo', 'Londres', 'Tóquio', 'París'\n",
        "for nome in nomes_cidades:\n",
        "    print(nome)"
      ]
    },
    {
      "cell_type": "code",
      "execution_count": null,
      "id": "5c0f9fd2",
      "metadata": {
        "id": "5c0f9fd2",
        "outputId": "4486a0fa-097f-4298-84ec-7c26436f075c"
      },
      "outputs": [
        {
          "name": "stdout",
          "output_type": "stream",
          "text": [
            "nome: São Paulo\n",
            "estado: São Paulo\n",
            "populacao_milhoes: 12.2\n"
          ]
        }
      ],
      "source": [
        "# For em Dicionários\n",
        "cidade = {\n",
        "    'nome': 'São Paulo',\n",
        "    'estado': 'São Paulo',\n",
        "    'populacao_milhoes': 12.2\n",
        "}\n",
        "for chave in cidade:\n",
        "    print (f'{chave}: {cidade[chave]}')\n"
      ]
    },
    {
      "cell_type": "code",
      "execution_count": null,
      "id": "8f0c5edf",
      "metadata": {
        "id": "8f0c5edf",
        "outputId": "771de602-4989-4f42-9880-b16bef20e5cd"
      },
      "outputs": [
        {
          "name": "stdout",
          "output_type": "stream",
          "text": [
            "Rio de Janeiro\n",
            "Rio de Janeiro\n",
            "Rio de Janeiro\n",
            "Rio de Janeiro\n",
            "['Rio de Janeiro', 'Rio de Janeiro', 'Rio de Janeiro', 'Rio de Janeiro']\n"
          ]
        }
      ],
      "source": [
        "# Alterar valores da lista\n",
        "nomes_cidades = ['São Paulo', 'Londres', 'Tóquio', 'París']\n",
        "\n",
        "for nome in nomes_cidades:\n",
        "    nome = 'Rio de Janeiro'\n",
        "    print(nome)\n",
        "\n",
        "for posicao in range(len(nomes_cidades)):\n",
        "    nomes_cidades[posicao] = 'Rio de Janeiro'\n",
        "print(nomes_cidades)"
      ]
    },
    {
      "cell_type": "code",
      "execution_count": null,
      "id": "a304693d",
      "metadata": {
        "id": "a304693d"
      },
      "outputs": [],
      "source": [
        "# Segundo a aula, o primeiro método era pra da errado. Porém, como pode ser visto, deu certo, só que de uma forma diferente."
      ]
    },
    {
      "cell_type": "code",
      "execution_count": null,
      "id": "21435c72",
      "metadata": {
        "id": "21435c72",
        "outputId": "7d8d8804-6a02-4e7d-e590-e32e1a3ddd7f"
      },
      "outputs": [
        {
          "name": "stdout",
          "output_type": "stream",
          "text": [
            "[0, 1, 2, 3, 4, 5, 6, 7, 8, 9]\n",
            "[2, 3, 4, 5, 6, 7, 8, 9]\n",
            "[2, 4, 6, 8]\n",
            "[10, 9, 8, 7, 6, 5, 4, 3, 2, 1]\n"
          ]
        }
      ],
      "source": [
        "# Função Range (Gera listas)\n",
        "print(list(range(10)))\n",
        "print(list(range(2,10)))\n",
        "print(list(range(2,10,2)))\n",
        "print(list(range(10,0,-1)))"
      ]
    },
    {
      "cell_type": "code",
      "execution_count": null,
      "id": "4c3809e2",
      "metadata": {
        "id": "4c3809e2"
      },
      "outputs": [],
      "source": []
    }
  ],
  "metadata": {
    "kernelspec": {
      "display_name": "Python 3 (ipykernel)",
      "language": "python",
      "name": "python3"
    },
    "language_info": {
      "codemirror_mode": {
        "name": "ipython",
        "version": 3
      },
      "file_extension": ".py",
      "mimetype": "text/x-python",
      "name": "python",
      "nbconvert_exporter": "python",
      "pygments_lexer": "ipython3",
      "version": "3.10.5"
    },
    "colab": {
      "provenance": [],
      "include_colab_link": true
    }
  },
  "nbformat": 4,
  "nbformat_minor": 5
}