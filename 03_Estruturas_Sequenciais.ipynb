{
  "cells": [
    {
      "cell_type": "markdown",
      "metadata": {
        "id": "view-in-github",
        "colab_type": "text"
      },
      "source": [
        "<a href=\"https://colab.research.google.com/github/thiagoreys123/Curso_Suzano_Python/blob/main/03_Estruturas_Sequenciais.ipynb\" target=\"_parent\"><img src=\"https://colab.research.google.com/assets/colab-badge.svg\" alt=\"Open In Colab\"/></a>"
      ]
    },
    {
      "cell_type": "code",
      "execution_count": null,
      "id": "6eba22f2",
      "metadata": {
        "id": "6eba22f2",
        "outputId": "a811420a-3957-4d9d-de09-078f6fe742a0"
      },
      "outputs": [
        {
          "name": "stdout",
          "output_type": "stream",
          "text": [
            "Informe a sua idade: 24\n",
            "24 <class 'str'>\n"
          ]
        }
      ],
      "source": [
        "idade = input(\"Informe a sua idade: \")\n",
        "print (idade,type(idade))"
      ]
    },
    {
      "cell_type": "code",
      "execution_count": null,
      "id": "664d3626",
      "metadata": {
        "id": "664d3626",
        "outputId": "70b40cea-5798-4e5e-b933-2d075168c6d2"
      },
      "outputs": [
        {
          "name": "stdout",
          "output_type": "stream",
          "text": [
            "24 <class 'int'>\n"
          ]
        }
      ],
      "source": [
        "idade = int(idade)\n",
        "print(idade,type(idade))"
      ]
    },
    {
      "cell_type": "code",
      "execution_count": null,
      "id": "a696b83d",
      "metadata": {
        "id": "a696b83d",
        "outputId": "98ae595d-a0a2-4f9a-892d-8b542ec92b63"
      },
      "outputs": [
        {
          "name": "stdout",
          "output_type": "stream",
          "text": [
            "Digite seu salário mensal: 5000\n",
            "Digite seu gasto mensal: 2000\n",
            "O montante que você pode economizar ao fim do ano é de:  36000.0\n"
          ]
        }
      ],
      "source": [
        "salario_mensal = input(\"Digite seu salário mensal: \")\n",
        "salario_mensal = float(salario_mensal)\n",
        "\n",
        "gasto_mensal = input(\"Digite seu gasto mensal: \")\n",
        "gasto_mensal = float(gasto_mensal)\n",
        "\n",
        "salario_total = salario_mensal*12\n",
        "gasto_total = gasto_mensal*12\n",
        "\n",
        "montante_economizado = salario_total - gasto_total\n",
        "print(\"O montante que você pode economizar ao fim do ano é de: \",montante_economizado)"
      ]
    },
    {
      "cell_type": "code",
      "execution_count": null,
      "id": "eb691365",
      "metadata": {
        "id": "eb691365"
      },
      "outputs": [],
      "source": []
    }
  ],
  "metadata": {
    "kernelspec": {
      "display_name": "Python 3 (ipykernel)",
      "language": "python",
      "name": "python3"
    },
    "language_info": {
      "codemirror_mode": {
        "name": "ipython",
        "version": 3
      },
      "file_extension": ".py",
      "mimetype": "text/x-python",
      "name": "python",
      "nbconvert_exporter": "python",
      "pygments_lexer": "ipython3",
      "version": "3.10.5"
    },
    "colab": {
      "provenance": [],
      "include_colab_link": true
    }
  },
  "nbformat": 4,
  "nbformat_minor": 5
}