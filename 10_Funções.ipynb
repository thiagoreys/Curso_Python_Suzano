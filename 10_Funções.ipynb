{
  "cells": [
    {
      "cell_type": "markdown",
      "metadata": {
        "id": "view-in-github",
        "colab_type": "text"
      },
      "source": [
        "<a href=\"https://colab.research.google.com/github/thiagoreys123/Curso_Suzano_Python/blob/main/10_Fun%C3%A7%C3%B5es.ipynb\" target=\"_parent\"><img src=\"https://colab.research.google.com/assets/colab-badge.svg\" alt=\"Open In Colab\"/></a>"
      ]
    },
    {
      "cell_type": "code",
      "execution_count": null,
      "id": "51ef6cc5",
      "metadata": {
        "id": "51ef6cc5"
      },
      "outputs": [],
      "source": [
        "def hello():\n",
        "    print('Olá, mundo!')"
      ]
    },
    {
      "cell_type": "code",
      "execution_count": null,
      "id": "dff44e48",
      "metadata": {
        "id": "dff44e48",
        "outputId": "43926700-3dfe-43e2-e776-6e951a2cc66a"
      },
      "outputs": [
        {
          "name": "stdout",
          "output_type": "stream",
          "text": [
            "Olá, mundo!\n"
          ]
        }
      ],
      "source": [
        "hello()"
      ]
    },
    {
      "cell_type": "code",
      "execution_count": null,
      "id": "becf2867",
      "metadata": {
        "id": "becf2867"
      },
      "outputs": [],
      "source": [
        "def calcular_media(n1,n2,n3):\n",
        "    media = (n1+n2+n3)/3\n",
        "    return media"
      ]
    },
    {
      "cell_type": "code",
      "execution_count": null,
      "id": "39c8fdb1",
      "metadata": {
        "id": "39c8fdb1",
        "outputId": "91133cf9-1427-46a7-bb86-4433247d239c"
      },
      "outputs": [
        {
          "data": {
            "text/plain": [
              "8.0"
            ]
          },
          "execution_count": 15,
          "metadata": {},
          "output_type": "execute_result"
        }
      ],
      "source": [
        "calcular_media(7,8,9)"
      ]
    },
    {
      "cell_type": "code",
      "execution_count": null,
      "id": "f2833287",
      "metadata": {
        "id": "f2833287"
      },
      "outputs": [],
      "source": [
        "def calcular_media(n1=0,n2=0,n3=0):\n",
        "    media = (n1+n2+n3)/3\n",
        "    return media"
      ]
    },
    {
      "cell_type": "code",
      "execution_count": null,
      "id": "539d429f",
      "metadata": {
        "id": "539d429f",
        "outputId": "7588397c-2228-468d-9034-b000f7afe9bb"
      },
      "outputs": [
        {
          "data": {
            "text/plain": [
              "0.0"
            ]
          },
          "execution_count": 10,
          "metadata": {},
          "output_type": "execute_result"
        }
      ],
      "source": [
        "calcular_media()"
      ]
    },
    {
      "cell_type": "code",
      "execution_count": null,
      "id": "38fecf10",
      "metadata": {
        "id": "38fecf10"
      },
      "outputs": [],
      "source": [
        "# Quantos parâmetros o usuário quiser\n",
        "\n",
        "def calcular_media(*args):\n",
        "    media = sum(args)/len(args)\n",
        "    return media"
      ]
    },
    {
      "cell_type": "code",
      "execution_count": null,
      "id": "e55905b3",
      "metadata": {
        "id": "e55905b3",
        "outputId": "530f0c7b-4560-4ad0-dd55-d76e647d5399"
      },
      "outputs": [
        {
          "data": {
            "text/plain": [
              "9.0"
            ]
          },
          "execution_count": 24,
          "metadata": {},
          "output_type": "execute_result"
        }
      ],
      "source": [
        "calcular_media(9,8,10)"
      ]
    },
    {
      "cell_type": "code",
      "execution_count": null,
      "id": "e3e2d2a8",
      "metadata": {
        "id": "e3e2d2a8"
      },
      "outputs": [],
      "source": [
        "# Média com margem\n",
        "\n",
        "def calcular_media(*args,margem):\n",
        "    media = sum(args)/len(args)\n",
        "    return media + margem"
      ]
    },
    {
      "cell_type": "code",
      "execution_count": null,
      "id": "bcb63fcc",
      "metadata": {
        "id": "bcb63fcc",
        "outputId": "d7f6a8a7-73c2-492a-a0df-ff06ad151215"
      },
      "outputs": [
        {
          "data": {
            "text/plain": [
              "9.3"
            ]
          },
          "execution_count": 27,
          "metadata": {},
          "output_type": "execute_result"
        }
      ],
      "source": [
        "calcular_media(9,8,10,margem=0.3)"
      ]
    },
    {
      "cell_type": "code",
      "execution_count": null,
      "id": "9643a6cb",
      "metadata": {
        "id": "9643a6cb"
      },
      "outputs": [],
      "source": [
        "# Parâmetros Opcionais\n",
        "\n",
        "def print_info(**kwargs):\n",
        "    print (kwargs,type(kwargs))"
      ]
    },
    {
      "cell_type": "code",
      "execution_count": null,
      "id": "09091d25",
      "metadata": {
        "id": "09091d25",
        "outputId": "28f25c51-e7e5-4ef3-aff6-0fa1e9a4820e"
      },
      "outputs": [
        {
          "name": "stdout",
          "output_type": "stream",
          "text": [
            "{'nome': 'Thiago', 'sobrenome': 'Reis'} <class 'dict'>\n"
          ]
        }
      ],
      "source": [
        "print_info(nome='Thiago',sobrenome='Reis')"
      ]
    },
    {
      "cell_type": "code",
      "execution_count": null,
      "id": "956eab4f",
      "metadata": {
        "id": "956eab4f"
      },
      "outputs": [],
      "source": [
        "# Nessa função os parâmetros são agrupados em dicionários."
      ]
    }
  ],
  "metadata": {
    "kernelspec": {
      "display_name": "Python 3 (ipykernel)",
      "language": "python",
      "name": "python3"
    },
    "language_info": {
      "codemirror_mode": {
        "name": "ipython",
        "version": 3
      },
      "file_extension": ".py",
      "mimetype": "text/x-python",
      "name": "python",
      "nbconvert_exporter": "python",
      "pygments_lexer": "ipython3",
      "version": "3.10.5"
    },
    "colab": {
      "provenance": [],
      "include_colab_link": true
    }
  },
  "nbformat": 4,
  "nbformat_minor": 5
}