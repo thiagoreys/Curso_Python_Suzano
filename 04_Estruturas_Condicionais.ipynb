{
  "cells": [
    {
      "cell_type": "markdown",
      "metadata": {
        "id": "view-in-github",
        "colab_type": "text"
      },
      "source": [
        "<a href=\"https://colab.research.google.com/github/thiagoreys123/Curso_Suzano_Python/blob/main/04_Estruturas_Condicionais.ipynb\" target=\"_parent\"><img src=\"https://colab.research.google.com/assets/colab-badge.svg\" alt=\"Open In Colab\"/></a>"
      ]
    },
    {
      "cell_type": "code",
      "execution_count": null,
      "id": "8df9c2b4",
      "metadata": {
        "id": "8df9c2b4",
        "outputId": "f4f9963a-3fbc-489b-efcf-43c809d6eb50"
      },
      "outputs": [
        {
          "name": "stdout",
          "output_type": "stream",
          "text": [
            "Qual o valor da corrida no app? 25\n",
            "Pegue o ônibus\n"
          ]
        }
      ],
      "source": [
        "valor_passagem = 4.30\n",
        "\n",
        "valor_corrida = input(\"Qual o valor da corrida no app? \")\n",
        "\n",
        "if float(valor_corrida) <= valor_passagem * 5:\n",
        "    print(\"Pague a corrida\")\n",
        "else:\n",
        "    print(\"Pegue o ônibus\")"
      ]
    },
    {
      "cell_type": "code",
      "execution_count": null,
      "id": "c64aaeba",
      "metadata": {
        "id": "c64aaeba",
        "outputId": "b94fc16d-82a7-4361-f504-997cc3226a9e"
      },
      "outputs": [
        {
          "name": "stdout",
          "output_type": "stream",
          "text": [
            "Qual o valor da corrida no app? 30\n",
            "Pegue o ônibus\n"
          ]
        }
      ],
      "source": [
        "valor_passagem = 4.30\n",
        "\n",
        "valor_corrida = input(\"Qual o valor da corrida no app? \")\n",
        "\n",
        "if float(valor_corrida) <= valor_passagem * 5:\n",
        "    print(\"Pague a corrida\")\n",
        "else:\n",
        "    if float(valor_corrida) <= valor_passagem * 6:\n",
        "        print(\"Aguarde um momento, o valor pode abaixar\")\n",
        "    else:\n",
        "        print(\"Pegue o ônibus\")"
      ]
    },
    {
      "cell_type": "code",
      "execution_count": null,
      "id": "d9e99492",
      "metadata": {
        "id": "d9e99492",
        "outputId": "281b6f79-f584-43e6-ace2-52fa88133688"
      },
      "outputs": [
        {
          "name": "stdout",
          "output_type": "stream",
          "text": [
            "Qual o valor da corrida no app? 30\n",
            "Pegue o ônibus\n"
          ]
        }
      ],
      "source": [
        "valor_passagem = 4.30\n",
        "\n",
        "valor_corrida = input(\"Qual o valor da corrida no app? \")\n",
        "\n",
        "if float(valor_corrida) <= valor_passagem * 5:\n",
        "    print(\"Pague a corrida\")\n",
        "elif float(valor_corrida) <= valor_passagem * 6:\n",
        "    print(\"Aguarde um momento, o valor pode abaixar\")\n",
        "else:\n",
        "    print(\"Pegue o ônibus\")"
      ]
    },
    {
      "cell_type": "code",
      "execution_count": null,
      "id": "192a3bde",
      "metadata": {
        "id": "192a3bde"
      },
      "outputs": [],
      "source": []
    }
  ],
  "metadata": {
    "kernelspec": {
      "display_name": "Python 3 (ipykernel)",
      "language": "python",
      "name": "python3"
    },
    "language_info": {
      "codemirror_mode": {
        "name": "ipython",
        "version": 3
      },
      "file_extension": ".py",
      "mimetype": "text/x-python",
      "name": "python",
      "nbconvert_exporter": "python",
      "pygments_lexer": "ipython3",
      "version": "3.10.5"
    },
    "colab": {
      "provenance": [],
      "include_colab_link": true
    }
  },
  "nbformat": 4,
  "nbformat_minor": 5
}