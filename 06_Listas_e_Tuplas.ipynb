{
  "cells": [
    {
      "cell_type": "markdown",
      "metadata": {
        "id": "view-in-github",
        "colab_type": "text"
      },
      "source": [
        "<a href=\"https://colab.research.google.com/github/thiagoreys123/Curso_Suzano_Python/blob/main/06_Listas_e_Tuplas.ipynb\" target=\"_parent\"><img src=\"https://colab.research.google.com/assets/colab-badge.svg\" alt=\"Open In Colab\"/></a>"
      ]
    },
    {
      "cell_type": "code",
      "execution_count": null,
      "id": "3de8a027",
      "metadata": {
        "id": "3de8a027"
      },
      "outputs": [],
      "source": [
        " # LISTAS\n",
        "\n",
        "nomes_paises = ['Brasil','Argentina','China','Canadá','Japão']\n",
        "print(nomes_paises)"
      ]
    },
    {
      "cell_type": "code",
      "execution_count": null,
      "id": "d5a09d17",
      "metadata": {
        "id": "d5a09d17",
        "outputId": "81dd1712-8e54-4e45-eea2-37e6f9fabeb3"
      },
      "outputs": [
        {
          "name": "stdout",
          "output_type": "stream",
          "text": [
            "Tamanho da lista: 5\n"
          ]
        }
      ],
      "source": [
        "print('Tamanho da lista:', len(nomes_paises))"
      ]
    },
    {
      "cell_type": "code",
      "execution_count": null,
      "id": "8fb08418",
      "metadata": {
        "id": "8fb08418",
        "outputId": "4caca77a-e081-49c8-cb45-8780168583a7"
      },
      "outputs": [
        {
          "name": "stdout",
          "output_type": "stream",
          "text": [
            "País na posição 5:  Japão\n",
            "Ultimo país da lista:  Japão\n"
          ]
        }
      ],
      "source": [
        "# Exibição de itens\n",
        "print('País na posição 5: ',nomes_paises[4])\n",
        "print('Ultimo país da lista: ',nomes_paises[-1])"
      ]
    },
    {
      "cell_type": "code",
      "execution_count": null,
      "id": "ec281740",
      "metadata": {
        "id": "ec281740",
        "outputId": "0515984e-97cf-4ec0-c9d2-e9eefd079373"
      },
      "outputs": [
        {
          "name": "stdout",
          "output_type": "stream",
          "text": [
            "['Brasil', 'Argentina', 'China', 'Canadá', 'Colômbia']\n"
          ]
        }
      ],
      "source": [
        "# Substiuição de itens\n",
        "nomes_paises[-1] = 'Colômbia'\n",
        "print(nomes_paises)"
      ]
    },
    {
      "cell_type": "code",
      "execution_count": null,
      "id": "02bc92dd",
      "metadata": {
        "id": "02bc92dd",
        "outputId": "6d51ade8-4496-42a3-9794-257f0f01bad5"
      },
      "outputs": [
        {
          "name": "stdout",
          "output_type": "stream",
          "text": [
            "['Argentina', 'China', 'Canadá']\n"
          ]
        }
      ],
      "source": [
        "# Fatiamento da Lista\n",
        "print(nomes_paises[1:4])\n",
        "\n",
        "# [1:4] = [1 ao 3], o limitador final não é incluído"
      ]
    },
    {
      "cell_type": "code",
      "execution_count": null,
      "id": "2ade200e",
      "metadata": {
        "id": "2ade200e",
        "outputId": "4e3710d0-fccb-4c4b-8af4-4e57d39b5013"
      },
      "outputs": [
        {
          "name": "stdout",
          "output_type": "stream",
          "text": [
            "['Argentina', 'China', 'Canadá', 'Colômbia']\n"
          ]
        }
      ],
      "source": [
        "# Caso queira incluir o último item:\n",
        "print(nomes_paises[1:])"
      ]
    },
    {
      "cell_type": "code",
      "execution_count": null,
      "id": "77d96b21",
      "metadata": {
        "id": "77d96b21",
        "outputId": "060206bb-a9be-4cc0-9e35-c7deb0c5c02b"
      },
      "outputs": [
        {
          "name": "stdout",
          "output_type": "stream",
          "text": [
            "['Brasil', 'Argentina', 'China', 'Canadá']\n",
            "['Brasil', 'Argentina', 'China', 'Canadá']\n"
          ]
        }
      ],
      "source": [
        "# Caso queira incluir o primeiro item:\n",
        "print(nomes_paises[:4])\n",
        "\n",
        "# Ou\n",
        "print(nomes_paises[0:4])"
      ]
    },
    {
      "cell_type": "code",
      "execution_count": null,
      "id": "1c1d9311",
      "metadata": {
        "id": "1c1d9311",
        "outputId": "429de530-c4f4-41ac-ed23-9fad1e0768c5"
      },
      "outputs": [
        {
          "name": "stdout",
          "output_type": "stream",
          "text": [
            "['Brasil', 'Argentina', 'China', 'Canadá', 'Colômbia']\n"
          ]
        }
      ],
      "source": [
        "# Caso queira exibir a lista completa\n",
        "print(nomes_paises [:])\n",
        "\n",
        "# aparatentemente essa função não faz sentido, porém, a seguir terá utilidade."
      ]
    },
    {
      "cell_type": "code",
      "execution_count": null,
      "id": "d18ff7ce",
      "metadata": {
        "id": "d18ff7ce",
        "outputId": "609bfbdd-c918-4ab3-a8d2-a759a9569a7a"
      },
      "outputs": [
        {
          "name": "stdout",
          "output_type": "stream",
          "text": [
            "['Brasil', 'China', 'Colômbia']\n"
          ]
        }
      ],
      "source": [
        "# Pular Elementos\n",
        "print(nomes_paises[::2])"
      ]
    },
    {
      "cell_type": "code",
      "execution_count": null,
      "id": "b3481d7b",
      "metadata": {
        "id": "b3481d7b",
        "outputId": "9ab9804b-287c-42bc-c3b5-22eecf9a379b"
      },
      "outputs": [
        {
          "name": "stdout",
          "output_type": "stream",
          "text": [
            "['Colômbia', 'Canadá', 'China', 'Argentina', 'Brasil']\n"
          ]
        }
      ],
      "source": [
        "# Inverter Ordem da Lista\n",
        "print(nomes_paises[::-1])"
      ]
    },
    {
      "cell_type": "code",
      "execution_count": null,
      "id": "3ad1a9a3",
      "metadata": {
        "id": "3ad1a9a3",
        "outputId": "961130f3-bdd6-4665-f1f6-31ac376ef53e"
      },
      "outputs": [
        {
          "name": "stdout",
          "output_type": "stream",
          "text": [
            "True\n"
          ]
        }
      ],
      "source": [
        "# Verificar a existência de um elemento na lista\n",
        "print(\"Brasil\" in nomes_paises)"
      ]
    },
    {
      "cell_type": "code",
      "execution_count": null,
      "id": "eb985167",
      "metadata": {
        "id": "eb985167"
      },
      "outputs": [],
      "source": [
        "lista_capitais = []"
      ]
    },
    {
      "cell_type": "code",
      "execution_count": null,
      "id": "5d4c310d",
      "metadata": {
        "id": "5d4c310d",
        "outputId": "00d14cec-6dff-442c-a1f3-55711a4ced32"
      },
      "outputs": [
        {
          "name": "stdout",
          "output_type": "stream",
          "text": [
            "['Brasília', 'Buenos Aires', 'Pequin', 'Bogotá']\n"
          ]
        }
      ],
      "source": [
        "# Adicionar Elementos\n",
        "lista_capitais.append('Brasília')\n",
        "lista_capitais.append('Buenos Aires')\n",
        "lista_capitais.append('Pequin')\n",
        "lista_capitais.append('Bogotá')\n",
        "\n",
        "print(lista_capitais)"
      ]
    },
    {
      "cell_type": "code",
      "execution_count": null,
      "id": "9bb64884",
      "metadata": {
        "id": "9bb64884",
        "outputId": "f27b405b-f72a-4d7d-feff-48fc106acb77"
      },
      "outputs": [
        {
          "name": "stdout",
          "output_type": "stream",
          "text": [
            "['Brasília', 'Buenos Aires', 'Paris', 'Pequin', 'Bogotá']\n"
          ]
        }
      ],
      "source": [
        "# Inserir Elemento - posição específica\n",
        "lista_capitais.insert(2,'Paris')\n",
        "print(lista_capitais)"
      ]
    },
    {
      "cell_type": "code",
      "execution_count": null,
      "id": "299e5de0",
      "metadata": {
        "id": "299e5de0",
        "outputId": "c7aca033-838c-4262-997d-dc5f148dc5a9"
      },
      "outputs": [
        {
          "name": "stdout",
          "output_type": "stream",
          "text": [
            "['Brasília', 'Paris', 'Pequin', 'Bogotá']\n"
          ]
        }
      ],
      "source": [
        "# Remover Elemento - pelo nome\n",
        "lista_capitais.remove('Buenos Aires')\n",
        "print(lista_capitais)"
      ]
    },
    {
      "cell_type": "code",
      "execution_count": null,
      "id": "ddc856f5",
      "metadata": {
        "id": "ddc856f5",
        "outputId": "7c71b6c7-fea3-4582-b4a8-dbdeb63b9b06"
      },
      "outputs": [
        {
          "name": "stdout",
          "output_type": "stream",
          "text": [
            "['Brasília', 'Paris', 'Bogotá'] Item removido Pequin\n"
          ]
        }
      ],
      "source": [
        "# Remover Elemento - pela posição\n",
        "remove = lista_capitais.pop(2)\n",
        "print(lista_capitais,\"Item removido: \",remove)\n",
        "\n",
        "# a função retona o valor removido"
      ]
    },
    {
      "cell_type": "code",
      "execution_count": null,
      "id": "44e5ca97",
      "metadata": {
        "id": "44e5ca97",
        "outputId": "32f9a14d-8daa-40ae-d5b5-1293675dbf45"
      },
      "outputs": [
        {
          "name": "stdout",
          "output_type": "stream",
          "text": [
            "Paris está na posição 1\n"
          ]
        }
      ],
      "source": [
        "# Buscar um elemento e revelar sua posição\n",
        "Paris = lista_capitais.index('Paris')\n",
        "print(\"Paris está na posição\",Paris)"
      ]
    },
    {
      "cell_type": "code",
      "execution_count": null,
      "id": "3ef2e254",
      "metadata": {
        "id": "3ef2e254",
        "outputId": "f4e711b3-b791-4a5a-b01a-eeb373cebb04"
      },
      "outputs": [
        {
          "name": "stdout",
          "output_type": "stream",
          "text": [
            "['Bogotá', 'Brasília', 'Paris']\n"
          ]
        }
      ],
      "source": [
        "# Ordenar a lista em ordem alfabética\n",
        "lista_capitais.sort()\n",
        "print(lista_capitais)"
      ]
    },
    {
      "cell_type": "code",
      "execution_count": null,
      "id": "5aba3758",
      "metadata": {
        "id": "5aba3758",
        "outputId": "eabd370d-70c8-4780-eff6-b943618eb134"
      },
      "outputs": [
        {
          "name": "stdout",
          "output_type": "stream",
          "text": [
            "[3, 1, 4, 1, 5, 9, 2, 6, 5]\n",
            "Maior =  9  e menor =  1\n"
          ]
        }
      ],
      "source": [
        "# Menor valor e Maior valor\n",
        "digitos = [3, 1, 4, 1, 5, 9, 2, 6, 5]\n",
        "maior = max(digitos)\n",
        "menor = min(digitos)\n",
        "print(digitos)\n",
        "print(\"Maior = \", maior, \" e menor = \", menor)"
      ]
    },
    {
      "cell_type": "code",
      "execution_count": null,
      "id": "9d6d2dd2",
      "metadata": {
        "id": "9d6d2dd2",
        "outputId": "7889bbe6-89fe-4e9d-f4d6-dd5a56b89be1"
      },
      "outputs": [
        {
          "name": "stdout",
          "output_type": "stream",
          "text": [
            "('Brasil', 'Argentina', 'China', 'Canadá', 'Japão') <class 'tuple'>\n"
          ]
        }
      ],
      "source": [
        "# TUPLAS\n",
        "\n",
        "nomes_paises = ('Brasil','Argentina','China','Canadá','Japão')\n",
        "print(nomes_paises,type(nomes_paises))"
      ]
    },
    {
      "cell_type": "code",
      "execution_count": null,
      "id": "e977b9a2",
      "metadata": {
        "id": "e977b9a2",
        "outputId": "16646581-6768-4d08-eb24-0056223b6e06"
      },
      "outputs": [
        {
          "name": "stdout",
          "output_type": "stream",
          "text": [
            "('Brasil', 'Argentina', 'China', 'Canadá', 'Japão') <class 'tuple'>\n"
          ]
        }
      ],
      "source": [
        "nomes_paises = 'Brasil','Argentina','China','Canadá','Japão'\n",
        "print(nomes_paises,type(nomes_paises))"
      ]
    },
    {
      "cell_type": "code",
      "execution_count": null,
      "id": "82b72fba",
      "metadata": {
        "id": "82b72fba",
        "outputId": "8adba934-fc95-481f-a39a-bda07421cd23"
      },
      "outputs": [
        {
          "name": "stdout",
          "output_type": "stream",
          "text": [
            "('São Paulo',) <class 'tuple'>\n"
          ]
        }
      ],
      "source": [
        "nome_estado = ('São Paulo',)\n",
        "print(nome_estado,type(nome_estado))"
      ]
    },
    {
      "cell_type": "code",
      "execution_count": null,
      "id": "a404d8e3",
      "metadata": {
        "id": "a404d8e3"
      },
      "outputs": [],
      "source": [
        "# As tuplas parecem bastantes com as listas, porém são imutáveis, ou seja, não é possível adicionar ou remover valores.\n",
        "# Além disso, as tuplas possuem uma função extra 'unpacking', que basicamente é alocar os itens em parâmetros."
      ]
    },
    {
      "cell_type": "code",
      "execution_count": null,
      "id": "9839cbfb",
      "metadata": {
        "id": "9839cbfb",
        "outputId": "cda562a5-6c33-46a9-f0ce-a903c86c462e"
      },
      "outputs": [
        {
          "name": "stdout",
          "output_type": "stream",
          "text": [
            "Brasil China Japão\n"
          ]
        }
      ],
      "source": [
        "# Unpacking\n",
        "b,a,c,ca,j = nomes_paises\n",
        "print(b,c,j)"
      ]
    },
    {
      "cell_type": "code",
      "execution_count": null,
      "id": "28609bf6",
      "metadata": {
        "id": "28609bf6",
        "outputId": "29b5cde9-311f-4044-dd57-0c84ee3a9a3c"
      },
      "outputs": [
        {
          "name": "stdout",
          "output_type": "stream",
          "text": [
            "Brasil Argentina China Canadá Japão\n"
          ]
        }
      ],
      "source": [
        "# Impressão dos parâmetros\n",
        "print(*nomes_paises)"
      ]
    },
    {
      "cell_type": "code",
      "execution_count": null,
      "id": "1e913bb7",
      "metadata": {
        "id": "1e913bb7",
        "outputId": "a2272af1-9fef-4144-c01d-d4a689d1c152"
      },
      "outputs": [
        {
          "name": "stdout",
          "output_type": "stream",
          "text": [
            "(3, 1, 4, 1, 5, 9, 2, 6, 5)\n"
          ]
        }
      ],
      "source": [
        "# Podemos gerar uma tupla a partir de uma lista...\n",
        "lista1 = [3, 1, 4, 1, 5, 9, 2, 6, 5]\n",
        "tupla1 = tuple(lista1)\n",
        "print(tupla1)"
      ]
    },
    {
      "cell_type": "code",
      "execution_count": null,
      "id": "cc4e5e91",
      "metadata": {
        "id": "cc4e5e91",
        "outputId": "ce102c71-48d2-4faa-eeea-38422185fc64"
      },
      "outputs": [
        {
          "name": "stdout",
          "output_type": "stream",
          "text": [
            "[1, 6, 1, 8]\n"
          ]
        }
      ],
      "source": [
        "# ...ou uma lista a partir de uma tupla:\n",
        "tupla2 = [1, 6, 1, 8]\n",
        "lista2 = list(tupla2)\n",
        "print(lista2)"
      ]
    },
    {
      "cell_type": "code",
      "execution_count": null,
      "id": "352d94d0",
      "metadata": {
        "id": "352d94d0"
      },
      "outputs": [],
      "source": []
    }
  ],
  "metadata": {
    "kernelspec": {
      "display_name": "Python 3 (ipykernel)",
      "language": "python",
      "name": "python3"
    },
    "language_info": {
      "codemirror_mode": {
        "name": "ipython",
        "version": 3
      },
      "file_extension": ".py",
      "mimetype": "text/x-python",
      "name": "python",
      "nbconvert_exporter": "python",
      "pygments_lexer": "ipython3",
      "version": "3.10.5"
    },
    "colab": {
      "provenance": [],
      "include_colab_link": true
    }
  },
  "nbformat": 4,
  "nbformat_minor": 5
}