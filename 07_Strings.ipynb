{
  "cells": [
    {
      "cell_type": "markdown",
      "metadata": {
        "id": "view-in-github",
        "colab_type": "text"
      },
      "source": [
        "<a href=\"https://colab.research.google.com/github/thiagoreys123/Curso_Suzano_Python/blob/main/07_Strings.ipynb\" target=\"_parent\"><img src=\"https://colab.research.google.com/assets/colab-badge.svg\" alt=\"Open In Colab\"/></a>"
      ]
    },
    {
      "cell_type": "code",
      "execution_count": null,
      "id": "ef6b013c",
      "metadata": {
        "id": "ef6b013c",
        "outputId": "ca511d16-14ff-4279-a955-cad2e876e2e0"
      },
      "outputs": [
        {
          "name": "stdout",
          "output_type": "stream",
          "text": [
            "Let's Code\n"
          ]
        }
      ],
      "source": [
        "empresa = \"Let's Code\"\n",
        "print(empresa)"
      ]
    },
    {
      "cell_type": "code",
      "execution_count": null,
      "id": "b3ad8a38",
      "metadata": {
        "id": "b3ad8a38",
        "outputId": "4840316c-9429-478f-a347-d7cff75e9e53"
      },
      "outputs": [
        {
          "name": "stdout",
          "output_type": "stream",
          "text": [
            "O professor da Let's Code falou: \"Hoje a pizza é por minha conta\" \n"
          ]
        }
      ],
      "source": [
        "# Frase com aspas\n",
        "frase = \"O professor da Let's Code falou: \\\"Hoje a pizza é por minha conta\\\" \"\n",
        "print (frase)"
      ]
    },
    {
      "cell_type": "code",
      "execution_count": null,
      "id": "85d444d2",
      "metadata": {
        "id": "85d444d2",
        "outputId": "dd8f5cdd-77e8-4249-c03e-7b57543a494b"
      },
      "outputs": [
        {
          "name": "stdout",
          "output_type": "stream",
          "text": [
            "G\n"
          ]
        }
      ],
      "source": [
        "# Pedaço de strings\n",
        "empresa = 'Google'\n",
        "print(empresa[0])"
      ]
    },
    {
      "cell_type": "code",
      "execution_count": null,
      "id": "1db4f984",
      "metadata": {
        "id": "1db4f984",
        "outputId": "e0a58404-d663-40c6-9518-4eda3a689652"
      },
      "outputs": [
        {
          "name": "stdout",
          "output_type": "stream",
          "text": [
            "Goo\n"
          ]
        }
      ],
      "source": [
        "print(empresa[0:3])"
      ]
    },
    {
      "cell_type": "code",
      "execution_count": null,
      "id": "e8006437",
      "metadata": {
        "id": "e8006437",
        "outputId": "f3adc741-eb2e-4459-abdb-7ae8cac43576"
      },
      "outputs": [
        {
          "name": "stdout",
          "output_type": "stream",
          "text": [
            "['São Paulo', 'Rio de Janeiro', 'São Luis', 'Imperatriz', 'Açailândia']\n"
          ]
        }
      ],
      "source": [
        "# Separação de strings\n",
        "cidades = 'São Paulo, Rio de Janeiro, São Luis, Imperatriz, Açailândia'\n",
        "cidades = cidades.split(', ')\n",
        "print(cidades)"
      ]
    },
    {
      "cell_type": "code",
      "execution_count": null,
      "id": "f5cde0b5",
      "metadata": {
        "id": "f5cde0b5",
        "outputId": "e4143eca-531c-4b27-8650-9237196e1645"
      },
      "outputs": [
        {
          "name": "stdout",
          "output_type": "stream",
          "text": [
            "MENU PRINCIPAL\n"
          ]
        }
      ],
      "source": [
        "# Eliminar espaços excessivos\n",
        "cabecalho = \"            MENU PRINCIPAL               \"\n",
        "print(cabecalho.strip())"
      ]
    },
    {
      "cell_type": "code",
      "execution_count": null,
      "id": "93b45e77",
      "metadata": {
        "id": "93b45e77",
        "outputId": "95534e8c-ba7a-4ddf-bb4e-d758625ca95f"
      },
      "outputs": [
        {
          "name": "stdout",
          "output_type": "stream",
          "text": [
            "Rio De Janeiro\n",
            "Rio de janeiro\n",
            "rio de janeiro\n",
            "RIO DE JANEIRO\n"
          ]
        }
      ],
      "source": [
        "# Letras Maiúsculas e minúsculas\n",
        "cidade = 'rIo dE JaNeIro'\n",
        "\n",
        "print(cidade.title())\n",
        "print(cidade.capitalize())\n",
        "print(cidade.lower())\n",
        "print(cidade.upper())"
      ]
    },
    {
      "cell_type": "code",
      "execution_count": null,
      "id": "0ee61db6",
      "metadata": {
        "id": "0ee61db6",
        "outputId": "a5702f14-d7e0-49b9-c2a2-64b5801bd681"
      },
      "outputs": [
        {
          "name": "stdout",
          "output_type": "stream",
          "text": [
            "True\n",
            "True\n"
          ]
        }
      ],
      "source": [
        "# Procurar strings\n",
        "mensagem = 'Você viu o que o Thiago falou ontem na aula?'\n",
        "print('Thiago' in mensagem)\n",
        "\n",
        "#ou\n",
        "fui_citado = 'Thiago' in mensagem\n",
        "print(fui_citado)"
      ]
    },
    {
      "cell_type": "code",
      "execution_count": null,
      "id": "b2e083f1",
      "metadata": {
        "id": "b2e083f1",
        "outputId": "e590ab1c-a394-4c5f-b2a8-c6d71fcce5c2"
      },
      "outputs": [
        {
          "name": "stdout",
          "output_type": "stream",
          "text": [
            "Let'sCode\n",
            "umaumauma\n"
          ]
        }
      ],
      "source": [
        "# Operações com strings\n",
        "\n",
        "palavra1 = \"Let's\"\n",
        "palavra2 = \"Code\"\n",
        "palavra3 = palavra1 + palavra2\n",
        "print(palavra3)\n",
        "\n",
        "palavra = 'uma'\n",
        "trespalavras = 3*palavra\n",
        "print(trespalavras)"
      ]
    },
    {
      "cell_type": "code",
      "execution_count": null,
      "id": "2f45232b",
      "metadata": {
        "id": "2f45232b",
        "outputId": "51aa4d4f-4804-4669-dbad-0e8df1e715f6"
      },
      "outputs": [
        {
          "name": "stdout",
          "output_type": "stream",
          "text": [
            "Felipe tem 33 anos e 2 filhos.\n"
          ]
        }
      ],
      "source": [
        "nome = 'Felipe'\n",
        "idade = 33\n",
        "n_filhos = 2\n",
        "print(nome + ' tem ' + str(idade) + ' anos e ' + str(n_filhos) + ' filhos.')"
      ]
    },
    {
      "cell_type": "code",
      "execution_count": null,
      "id": "a2cd082a",
      "metadata": {
        "id": "a2cd082a",
        "outputId": "446f841c-682f-4f30-a3c4-ef9cdf46b1d4"
      },
      "outputs": [
        {
          "name": "stdout",
          "output_type": "stream",
          "text": [
            "Felipe tem 33 anos e 2 filhos\n"
          ]
        }
      ],
      "source": [
        "print('{} tem {} anos e {} filhos'.format(nome,idade,n_filhos) )"
      ]
    },
    {
      "cell_type": "code",
      "execution_count": null,
      "id": "d4f3b275",
      "metadata": {
        "id": "d4f3b275",
        "outputId": "486f705a-69ca-431c-bd6f-98332016bcdd"
      },
      "outputs": [
        {
          "name": "stdout",
          "output_type": "stream",
          "text": [
            "O preço da gasolina aumentou, agora é: R$ 3.48\n"
          ]
        }
      ],
      "source": [
        "preco_da_gasolina = 3.475\n",
        "print ('O preço da gasolina aumentou, agora é: R$ {:.2f}'.format(preco_da_gasolina))"
      ]
    },
    {
      "cell_type": "code",
      "execution_count": null,
      "id": "5a0f59fe",
      "metadata": {
        "id": "5a0f59fe",
        "outputId": "8fccf3e5-2b8d-4b12-94de-ea595ad11663"
      },
      "outputs": [
        {
          "name": "stdout",
          "output_type": "stream",
          "text": [
            "Felipe tem 33 anos 2 filhos.\n"
          ]
        }
      ],
      "source": [
        "print(f'{nome} tem {idade} anos {n_filhos} filhos.')"
      ]
    },
    {
      "cell_type": "code",
      "execution_count": null,
      "id": "7e02dc5a",
      "metadata": {
        "id": "7e02dc5a"
      },
      "outputs": [],
      "source": []
    }
  ],
  "metadata": {
    "kernelspec": {
      "display_name": "Python 3 (ipykernel)",
      "language": "python",
      "name": "python3"
    },
    "language_info": {
      "codemirror_mode": {
        "name": "ipython",
        "version": 3
      },
      "file_extension": ".py",
      "mimetype": "text/x-python",
      "name": "python",
      "nbconvert_exporter": "python",
      "pygments_lexer": "ipython3",
      "version": "3.10.5"
    },
    "colab": {
      "provenance": [],
      "include_colab_link": true
    }
  },
  "nbformat": 4,
  "nbformat_minor": 5
}