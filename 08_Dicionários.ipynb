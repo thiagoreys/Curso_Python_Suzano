{
  "cells": [
    {
      "cell_type": "markdown",
      "metadata": {
        "id": "view-in-github",
        "colab_type": "text"
      },
      "source": [
        "<a href=\"https://colab.research.google.com/github/thiagoreys123/Curso_Suzano_Python/blob/main/08_Dicion%C3%A1rios.ipynb\" target=\"_parent\"><img src=\"https://colab.research.google.com/assets/colab-badge.svg\" alt=\"Open In Colab\"/></a>"
      ]
    },
    {
      "cell_type": "code",
      "execution_count": null,
      "id": "5d167e52",
      "metadata": {
        "id": "5d167e52"
      },
      "outputs": [],
      "source": [
        "dados_cidade = {\n",
        "    'nome': 'São Paulo',\n",
        "    'estado': 'São Paulo',\n",
        "    'area_km2': 1521,\n",
        "    'população_milhões': 12.18\n",
        "}"
      ]
    },
    {
      "cell_type": "code",
      "execution_count": null,
      "id": "76780bd6",
      "metadata": {
        "id": "76780bd6",
        "outputId": "99efbad6-4aa3-4a0e-8d5b-e5f5a7cb0b5c"
      },
      "outputs": [
        {
          "name": "stdout",
          "output_type": "stream",
          "text": [
            "<class 'dict'>\n"
          ]
        }
      ],
      "source": [
        "print(type(dados_cidade))"
      ]
    },
    {
      "cell_type": "code",
      "execution_count": null,
      "id": "9738fea2",
      "metadata": {
        "id": "9738fea2",
        "outputId": "986e6002-7ee5-4a42-924b-266b675f819e"
      },
      "outputs": [
        {
          "name": "stdout",
          "output_type": "stream",
          "text": [
            "{'nome': 'São Paulo', 'estado': 'São Paulo', 'area_km2': 1521, 'população_milhões': 12.18}\n"
          ]
        }
      ],
      "source": [
        "print(dados_cidade)"
      ]
    },
    {
      "cell_type": "code",
      "execution_count": null,
      "id": "21425890",
      "metadata": {
        "id": "21425890",
        "outputId": "77c0c21f-57b2-4d9b-b8f5-6d2e46469634"
      },
      "outputs": [
        {
          "name": "stdout",
          "output_type": "stream",
          "text": [
            "{'nome': 'São Paulo', 'estado': 'São Paulo', 'area_km2': 1521, 'população_milhões': 12.18, 'país': 'Brasil'}\n"
          ]
        }
      ],
      "source": [
        "# Adicionar itens\n",
        "dados_cidade['país'] = 'Brasil'\n",
        "print(dados_cidade)"
      ]
    },
    {
      "cell_type": "code",
      "execution_count": null,
      "id": "6988d8d6",
      "metadata": {
        "id": "6988d8d6",
        "outputId": "c21908c1-7666-4354-a1c8-9c0130845fcf"
      },
      "outputs": [
        {
          "name": "stdout",
          "output_type": "stream",
          "text": [
            "São Paulo\n"
          ]
        }
      ],
      "source": [
        "# Selecionar itens\n",
        "print(dados_cidade['nome'])"
      ]
    },
    {
      "cell_type": "code",
      "execution_count": null,
      "id": "bc1584bb",
      "metadata": {
        "id": "bc1584bb",
        "outputId": "c5eb4bfb-1b7c-4964-c25c-1c1d0ea272a4"
      },
      "outputs": [
        {
          "name": "stdout",
          "output_type": "stream",
          "text": [
            "Brasil\n",
            "None\n"
          ]
        }
      ],
      "source": [
        "# Buscar itens\n",
        "print(dados_cidade.get('país'))\n",
        "print(dados_cidade.get('prefeito'))  # não tem na lista"
      ]
    },
    {
      "cell_type": "code",
      "execution_count": null,
      "id": "c81cc3f7",
      "metadata": {
        "id": "c81cc3f7",
        "outputId": "5c76fee0-95ac-4598-a9bf-507c1f8008ef"
      },
      "outputs": [
        {
          "name": "stdout",
          "output_type": "stream",
          "text": [
            "{'nome': 'São Paulo', 'estado': 'São Paulo', 'area_km2': 1500, 'população_milhões': 12.18, 'país': 'Brasil'}\n"
          ]
        }
      ],
      "source": [
        "# Substituir itens\n",
        "dados_cidade['area_km2'] = 1500\n",
        "print(dados_cidade)"
      ]
    },
    {
      "cell_type": "code",
      "execution_count": null,
      "id": "666cfc6d",
      "metadata": {
        "id": "666cfc6d",
        "outputId": "cebe4c10-b76f-4519-9d37-3d6aa4ac2d5f"
      },
      "outputs": [
        {
          "name": "stdout",
          "output_type": "stream",
          "text": [
            "{'nome': 'Rio de Janeiro', 'estado': 'São Paulo', 'area_km2': 1500, 'população_milhões': 12.18, 'país': 'Brasil'}\n",
            "{'nome': 'São Paulo', 'estado': 'São Paulo', 'area_km2': 1500, 'população_milhões': 12.18, 'país': 'Brasil'}\n"
          ]
        }
      ],
      "source": [
        "# Cópia Desvinculada\n",
        "dados_cidade_2 = dados_cidade.copy()\n",
        "\n",
        "dados_cidade_2['nome'] = 'Rio de Janeiro'\n",
        "print(dados_cidade_2)\n",
        "print(dados_cidade)\n",
        "\n",
        "# Se não utilizar a função .copy a substituição será feita nos dois dicionários."
      ]
    },
    {
      "cell_type": "code",
      "execution_count": null,
      "id": "35d9e5b8",
      "metadata": {
        "id": "35d9e5b8",
        "outputId": "bfe033cb-1907-4b35-d4a1-6f73d52952d5"
      },
      "outputs": [
        {
          "name": "stdout",
          "output_type": "stream",
          "text": [
            "{'nome': 'São Paulo', 'estado': 'São Paulo', 'area_km2': 1500, 'população_milhões': 15, 'país': 'Brasil', 'fundação': '25/01/1554'}\n"
          ]
        }
      ],
      "source": [
        "# Atualização de dados\n",
        "novos_dados = {\n",
        "    'população_milhões': 15,\n",
        "    'fundação': '25/01/1554'\n",
        "}\n",
        "dados_cidade.update(novos_dados)\n",
        "print(dados_cidade)"
      ]
    },
    {
      "cell_type": "code",
      "execution_count": null,
      "id": "7a92da74",
      "metadata": {
        "id": "7a92da74",
        "outputId": "cbcfd833-5cbf-495d-c52e-d53cc730b1cf"
      },
      "outputs": [
        {
          "name": "stdout",
          "output_type": "stream",
          "text": [
            "dict_keys(['nome', 'estado', 'area_km2', 'população_milhões', 'país', 'fundação'])\n",
            "_______________\n",
            "dict_values(['São Paulo', 'São Paulo', 1500, 15, 'Brasil', '25/01/1554'])\n",
            "_______________\n",
            "dict_items([('nome', 'São Paulo'), ('estado', 'São Paulo'), ('area_km2', 1500), ('população_milhões', 15), ('país', 'Brasil'), ('fundação', '25/01/1554')])\n"
          ]
        }
      ],
      "source": [
        "# Dicionário em listas\n",
        "print(dados_cidade.keys())  # lista das chaves\n",
        "print('_______________')\n",
        "print(dados_cidade.values())  # lista dos valores\n",
        "print('_______________')\n",
        "print(dados_cidade.items())  # lista de tuplas (chave,valor)"
      ]
    },
    {
      "cell_type": "code",
      "execution_count": null,
      "id": "b97a9936",
      "metadata": {
        "id": "b97a9936"
      },
      "outputs": [],
      "source": []
    }
  ],
  "metadata": {
    "kernelspec": {
      "display_name": "Python 3 (ipykernel)",
      "language": "python",
      "name": "python3"
    },
    "language_info": {
      "codemirror_mode": {
        "name": "ipython",
        "version": 3
      },
      "file_extension": ".py",
      "mimetype": "text/x-python",
      "name": "python",
      "nbconvert_exporter": "python",
      "pygments_lexer": "ipython3",
      "version": "3.10.5"
    },
    "colab": {
      "provenance": [],
      "include_colab_link": true
    }
  },
  "nbformat": 4,
  "nbformat_minor": 5
}